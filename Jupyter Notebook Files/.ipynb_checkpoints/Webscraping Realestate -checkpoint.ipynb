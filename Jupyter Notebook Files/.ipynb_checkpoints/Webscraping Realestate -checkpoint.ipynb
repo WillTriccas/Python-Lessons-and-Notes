{
 "cells": [
  {
   "cell_type": "code",
   "execution_count": null,
   "id": "regulation-privilege",
   "metadata": {},
   "outputs": [],
   "source": [
    "import requests\n",
    "from bs4 import BeautifulSoup\n",
    "\n",
    "r = requests.get(\"http://www.pyclass.com/real-estate/rock-springs-wy/LCWYROCKSPRINGS/\", headers={'User-agent': 'Mozilla/5.0 (X11; Ubuntu; Linux x86_64; rv:61.0) Gecko/20100101 Firefox/61.0'})\n",
    "c = r.content\n",
    "soup = BeautifulSoup(c,\"html.parser\")\n",
    "\n",
    "body = soup.find_all(\"div\", {\"class\": \"propertyRow\"})\n",
    "len(body)"
   ]
  },
  {
   "cell_type": "code",
   "execution_count": null,
   "id": "ruled-tolerance",
   "metadata": {},
   "outputs": [],
   "source": [
    "#price of the first property (element) on the webpage\n",
    "price = body[0].find_all(\"h4\", {\"class\": \"propPrice\"})\n",
    "price[0].text.replace(\"\\n\",\"\").replace(\" \",\"\")"
   ]
  },
  {
   "cell_type": "code",
   "execution_count": null,
   "id": "ready-geneva",
   "metadata": {},
   "outputs": [],
   "source": [
    "for item in body:\n",
    "    print(item.find_all(\"h4\", {\"class\": \"propPrice\"})[0].text.replace(\"\\n\",\"\").replace(\" \",\"\"))\n",
    "    print(item.find_all(\"span\", {\"class\":\"propAddressCollapse\"})[0].text)\n",
    "    print(item.find_all(\"span\", {\"class\":\"propAddressCollapse\"})[1].text)\n",
    "    print(\" \")"
   ]
  },
  {
   "cell_type": "code",
   "execution_count": null,
   "id": "automated-bloom",
   "metadata": {},
   "outputs": [],
   "source": [
    "# to merge cells together in jupyter, go to the top cell and press shift+j then press shift+n"
   ]
  },
  {
   "cell_type": "code",
   "execution_count": null,
   "id": "impressive-bermuda",
   "metadata": {},
   "outputs": [],
   "source": [
    "# to get information about bedrooms and bathrooms, we do the exact same as we have done before but this time we are \n",
    "# dealing with none values and therefore need to use exceptions to avoid raising an error.\n",
    "\n",
    "for item in body:\n",
    "    print(item.find_all(\"h4\", {\"class\": \"propPrice\"})[0].text.replace(\"\\n\",\"\").replace(\" \",\"\"))\n",
    "    print(item.find_all(\"span\", {\"class\":\"propAddressCollapse\"})[0].text)\n",
    "    print(item.find_all(\"span\", {\"class\":\"propAddressCollapse\"})[1].text)\n",
    "    try:\n",
    "        print(item.find(\"span\", {\"class\": \"infoBed\"}).text)\n",
    "    except:\n",
    "        print(\"None\")\n",
    "    try:\n",
    "        print(item.find(\"span\", {\"class\": \"infoValueFullBath\"}).text)\n",
    "    except:\n",
    "        print(\"None\")\n",
    "    try:\n",
    "        print(item.find(\"span\", {\"class\": \"infoValueHalfBath\"}).text)\n",
    "    except:\n",
    "        print(\"None\")\n",
    "    try:\n",
    "        print(item.find(\"span\", {\"class\": \"infoSqFt\"}).text)\n",
    "    except:\n",
    "        print(\"None\")\n",
    "\n",
    "    print(\" \")"
   ]
  },
  {
   "cell_type": "code",
   "execution_count": null,
   "id": "optical-weight",
   "metadata": {},
   "outputs": [],
   "source": [
    "#Alternatively - as there are b tags within each of the span tags, we can split up the data and only print the number\n",
    "#and not the text with it.\n",
    "\n",
    "for item in body:\n",
    "    print(item.find_all(\"h4\", {\"class\": \"propPrice\"})[0].text.replace(\"\\n\",\"\").replace(\" \",\"\"))\n",
    "    print(item.find_all(\"span\", {\"class\":\"propAddressCollapse\"})[0].text)\n",
    "    print(item.find_all(\"span\", {\"class\":\"propAddressCollapse\"})[1].text)\n",
    "    try:\n",
    "        print(item.find(\"span\", {\"class\": \"infoBed\"}).find(\"b\").text)\n",
    "    except:\n",
    "        print(\"None\")\n",
    "    try:\n",
    "        print(item.find(\"span\", {\"class\": \"infoValueFullBath\"}).find(\"b\").text)\n",
    "    except:\n",
    "        print(\"None\")\n",
    "    try:\n",
    "        print(item.find(\"span\", {\"class\": \"infoValueHalfBath\"}).find(\"b\").text)\n",
    "    except:\n",
    "        print(\"None\")\n",
    "    try:\n",
    "        print(item.find(\"span\", {\"class\": \"infoSqFt\"}).find(\"b\").text)\n",
    "    except:\n",
    "        print(\"None\")\n",
    "    #This below section of code is an example when you have multiple classes with the same name and multiple \n",
    "    #Classes within them too - can iterate through the class to reach the value you want - in this case it is Lot Size\n",
    "    for column_group in item.find_all(\"div\", {\"class\":\"columnGroup\"}):\n",
    "        for feature_group, feature_name in zip(column_group.find_all(\"span\", {\"class\":\"featureGroup\"}), column_group.find_all(\"span\",{\"class\":\"featureName\"})):\n",
    "            if \"LOT SIZE\" in feature_group.text.upper():\n",
    "                print(feature_group.text,feature_name.text)\n",
    "            else:\n",
    "                pass\n",
    "    print(\" \")\n",
    "    "
   ]
  },
  {
   "cell_type": "code",
   "execution_count": 28,
   "id": "robust-electronics",
   "metadata": {},
   "outputs": [
    {
     "name": "stdout",
     "output_type": "stream",
     "text": [
      "      Price     Address First Line     Address Second Line Number of Beds  \\\n",
      "0  $725,000              0 Gateway  Rock Springs, WY 82901           None   \n",
      "1  $452,900  1003 Winchester Blvd.  Rock Springs, WY 82901              4   \n",
      "2  $396,900          600 Talladega  Rock Springs, WY 82901              5   \n",
      "3  $389,900     3239 Spearhead Way  Rock Springs, WY 82901              4   \n",
      "4  $254,000     522 Emerald Street  Rock Springs, WY 82901              3   \n",
      "5  $252,900   1302 Veteran's Drive  Rock Springs, WY 82901              4   \n",
      "6  $210,000       1021 Cypress Cir  Rock Springs, WY 82901              4   \n",
      "7  $209,000         913 Madison Dr  Rock Springs, WY 82901              3   \n",
      "8  $199,900      1344 Teton Street  Rock Springs, WY 82901              3   \n",
      "9  $196,900         4 Minnies Lane  Rock Springs, WY 82901              3   \n",
      "\n",
      "  Number of Full Bathrooms Number of Half Bathrooms Square Feet of Property  \\\n",
      "0                     None                     None                    None   \n",
      "1                        4                     None                    None   \n",
      "2                        3                     None                   3,154   \n",
      "3                        3                        1                   3,076   \n",
      "4                        3                     None                   1,172   \n",
      "5                        2                     None                   1,932   \n",
      "6                        3                     None                   1,676   \n",
      "7                        2                     None                   1,344   \n",
      "8                        2                     None                   1,920   \n",
      "9                        2                     None                   1,664   \n",
      "\n",
      "           Lot Size  \n",
      "0               NaN  \n",
      "1        0.21 Acres  \n",
      "2               NaN  \n",
      "3  Under 1/2 Acre,   \n",
      "4  Under 1/2 Acre,   \n",
      "5        0.27 Acres  \n",
      "6  Under 1/2 Acre,   \n",
      "7  Under 1/2 Acre,   \n",
      "8  Under 1/2 Acre,   \n",
      "9        2.02 Acres  \n"
     ]
    }
   ],
   "source": [
    "#Now we are going to append all of this data into a dataframe instead of just printing it out on the page - after that\n",
    "#we will export the data to a csv file\n",
    "\n",
    "import pandas\n",
    "\n",
    "l = []\n",
    "\n",
    "for item in body:\n",
    "    d = {}\n",
    "    d[\"Price\"] = item.find_all(\"h4\", {\"class\": \"propPrice\"})[0].text.replace(\"\\n\",\"\").replace(\" \",\"\")\n",
    "    d[\"Address First Line\"] = item.find_all(\"span\", {\"class\":\"propAddressCollapse\"})[0].text\n",
    "    d[\"Address Second Line\"] = item.find_all(\"span\", {\"class\":\"propAddressCollapse\"})[1].text\n",
    "    try:\n",
    "        d[\"Number of Beds\"] = item.find(\"span\", {\"class\": \"infoBed\"}).find(\"b\").text\n",
    "    except:\n",
    "        d[\"Number of Beds\"] =\"None\"\n",
    "    try:\n",
    "        d[\"Number of Full Bathrooms\"] = item.find(\"span\", {\"class\": \"infoValueFullBath\"}).find(\"b\").text\n",
    "    except:\n",
    "        d[\"Number of Full Bathrooms\"] = \"None\"\n",
    "    try:\n",
    "        d[\"Number of Half Bathrooms\"] = item.find(\"span\", {\"class\": \"infoValueHalfBath\"}).find(\"b\").text\n",
    "    except:\n",
    "        d[\"Number of Half Bathrooms\"] =\"None\"\n",
    "    try:\n",
    "        d[\"Square Feet of Property\"] = item.find(\"span\", {\"class\": \"infoSqFt\"}).find(\"b\").text\n",
    "    except:\n",
    "        d[\"Square Feet of Property\"] =\"None\"\n",
    "    for column_group in item.find_all(\"div\", {\"class\":\"columnGroup\"}):\n",
    "        for feature_group, feature_name in zip(column_group.find_all(\"span\", {\"class\":\"featureGroup\"}), column_group.find_all(\"span\",{\"class\":\"featureName\"})):\n",
    "            if \"LOT SIZE\" in feature_group.text.upper():\n",
    "                d[\"Lot Size\"] = feature_name.text\n",
    "            else:\n",
    "                pass\n",
    "\n",
    "    l.append(d)\n",
    "\n",
    "df = pandas.DataFrame(l)\n",
    "df.to_csv(\"PracticeWebscraping.csv\")\n",
    "\n",
    "#with open(\"PracticeWebscraping.csv\") as myfile:\n",
    " #   myfile.read()\n",
    "\n",
    "print(df)\n",
    "    "
   ]
  },
  {
   "cell_type": "code",
   "execution_count": 31,
   "id": "complimentary-appendix",
   "metadata": {},
   "outputs": [
    {
     "name": "stdout",
     "output_type": "stream",
     "text": [
      "http://www.pyclass.com/real-estate/rock-springs-wy/LCWYROCKSPRINGS/t=0&s=0.html\n",
      "http://www.pyclass.com/real-estate/rock-springs-wy/LCWYROCKSPRINGS/t=0&s=10.html\n",
      "http://www.pyclass.com/real-estate/rock-springs-wy/LCWYROCKSPRINGS/t=0&s=20.html\n"
     ]
    }
   ],
   "source": [
    "# If we want to trawl through multiple pages of a site, we have to see how the page URL differs from page to page.\n",
    "# this example, the base URL is:\n",
    "\n",
    "base_url = \"http://www.pyclass.com/real-estate/rock-springs-wy/LCWYROCKSPRINGS/t=0&s=\"\n",
    "\n",
    "# and each page increases the s value on the end of the URL by 10 each time, so we will iterate through the pages like this:\n",
    "\n",
    "for page in range(0,30,10):\n",
    "    print(base_url + str(page)+ \".html\")\n",
    "\n",
    "#in this example as well, we need to add the \".html\" to the end as its a cached website"
   ]
  },
  {
   "cell_type": "code",
   "execution_count": 33,
   "id": "detected-ultimate",
   "metadata": {},
   "outputs": [],
   "source": [
    "# To indent selected text in Jupyter Notebook - press CNTRL + ]"
   ]
  },
  {
   "cell_type": "code",
   "execution_count": 40,
   "id": "harmful-promotion",
   "metadata": {},
   "outputs": [
    {
     "name": "stdout",
     "output_type": "stream",
     "text": [
      "Empty DataFrame\n",
      "Columns: []\n",
      "Index: []\n"
     ]
    }
   ],
   "source": [
    "import pandas\n",
    "from bs4 import BeautifulSoup\n",
    "import requests\n",
    "\n",
    "l = []\n",
    "\n",
    "base_url = \"http://www.pyclass.com/real-estate/rock-springs-wy/LCWYROCKSPRINGS/t=0&s=\"\n",
    "\n",
    "for page in range(0,30,10):\n",
    "    r = requests.get(base_url + str(page) +\".html\")\n",
    "    c = r.content\n",
    "    soup = BeautifulSoup(c,\"html.parser\")\n",
    "    body = soup.find_all(\"div\", {\"class\":\"propertyRow\"})\n",
    "    for item in body:\n",
    "        d = {}\n",
    "        d[\"Price\"] = item.find_all(\"h4\", {\"class\": \"propPrice\"})[0].text.replace(\"\\n\",\"\").replace(\" \",\"\")\n",
    "        d[\"Address First Line\"] = item.find_all(\"span\", {\"class\":\"propAddressCollapse\"})[0].text\n",
    "        d[\"Address Second Line\"] = item.find_all(\"span\", {\"class\":\"propAddressCollapse\"})[1].text\n",
    "        try:\n",
    "            d[\"Number of Beds\"] = item.find(\"span\", {\"class\": \"infoBed\"}).find(\"b\").text\n",
    "        except:\n",
    "            d[\"Number of Beds\"] =\"None\"\n",
    "        try:\n",
    "            d[\"Number of Full Bathrooms\"] = item.find(\"span\", {\"class\": \"infoValueFullBath\"}).find(\"b\").text\n",
    "        except:\n",
    "            d[\"Number of Full Bathrooms\"] = \"None\"\n",
    "        try:\n",
    "            d[\"Number of Half Bathrooms\"] = item.find(\"span\", {\"class\": \"infoValueHalfBath\"}).find(\"b\").text\n",
    "        except:\n",
    "            d[\"Number of Half Bathrooms\"] =\"None\"\n",
    "        try:\n",
    "            d[\"Square Feet of Property\"] = item.find(\"span\", {\"class\": \"infoSqFt\"}).find(\"b\").text\n",
    "        except:\n",
    "            d[\"Square Feet of Property\"] =\"None\"\n",
    "        for column_group in item.find_all(\"div\", {\"class\":\"columnGroup\"}):\n",
    "            for feature_group, feature_name in zip(column_group.find_all(\"span\", {\"class\":\"featureGroup\"}), column_group.find_all(\"span\",{\"class\":\"featureName\"})):\n",
    "                if \"LOT SIZE\" in feature_group.text.upper():\n",
    "                    d[\"Lot Size\"] = feature_name.text\n",
    "                else:\n",
    "                    pass\n",
    "\n",
    "        l.append(d)\n",
    "\n",
    "df = pandas.DataFrame(l)\n",
    "df.to_csv(\"FullSiteWebScrape.csv\")\n",
    "\n",
    "print(df)"
   ]
  },
  {
   "cell_type": "code",
   "execution_count": 41,
   "id": "tutorial-lodge",
   "metadata": {},
   "outputs": [
    {
     "name": "stdout",
     "output_type": "stream",
     "text": [
      "[]\n",
      "[]\n",
      "[]\n"
     ]
    }
   ],
   "source": [
    "base_url = \"http://www.pyclass.com/real-estate/rock-springs-wy/LCWYROCKSPRINGS/t=0&s=\"\n",
    "\n",
    "for page in range(0,30,10):\n",
    "    r = requests.get(base_url + str(page) +\".html\")\n",
    "    c = r.content\n",
    "    soup = BeautifulSoup(c,\"html.parser\")\n",
    "    body = soup.find_all(\"div\", {\"class\":\"propertyRow\"})\n",
    "    print(body)"
   ]
  }
 ],
 "metadata": {
  "kernelspec": {
   "display_name": "Python 3",
   "language": "python",
   "name": "python3"
  },
  "language_info": {
   "codemirror_mode": {
    "name": "ipython",
    "version": 3
   },
   "file_extension": ".py",
   "mimetype": "text/x-python",
   "name": "python",
   "nbconvert_exporter": "python",
   "pygments_lexer": "ipython3",
   "version": "3.9.0"
  }
 },
 "nbformat": 4,
 "nbformat_minor": 5
}
