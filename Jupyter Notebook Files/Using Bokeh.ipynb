{
 "cells": [
  {
   "cell_type": "code",
   "execution_count": null,
   "id": "ultimate-radio",
   "metadata": {},
   "outputs": [],
   "source": [
    "#Making a basic linegraph"
   ]
  },
  {
   "cell_type": "code",
   "execution_count": null,
   "id": "ethical-august",
   "metadata": {},
   "outputs": [],
   "source": [
    "from bokeh.plotting import figure\n",
    "from bokeh.io import output_file, show"
   ]
  },
  {
   "cell_type": "code",
   "execution_count": null,
   "id": "nutritional-niagara",
   "metadata": {},
   "outputs": [],
   "source": [
    "#Some example data:\n",
    "x =[ 1,2,3,4,5]\n",
    "y =[ 6,7,8,9,10]"
   ]
  },
  {
   "cell_type": "code",
   "execution_count": null,
   "id": "civic-constitutional",
   "metadata": {},
   "outputs": [],
   "source": [
    "#Preparing the output file\n",
    "output_file(\"line.html\")\n",
    "\n",
    "#Create the figure object\n",
    "f = figure()\n",
    "\n",
    "#Create the line plot\n",
    "f.line(x,y)\n",
    "\n",
    "show(f)\n"
   ]
  },
  {
   "cell_type": "code",
   "execution_count": null,
   "id": "noticed-chile",
   "metadata": {},
   "outputs": [],
   "source": [
    "#Reminder, to execute code in jupyter it is CNTRL Enter"
   ]
  },
  {
   "cell_type": "code",
   "execution_count": null,
   "id": "roman-mounting",
   "metadata": {},
   "outputs": [],
   "source": [
    "dir(f)"
   ]
  },
  {
   "cell_type": "code",
   "execution_count": null,
   "id": "terminal-clinic",
   "metadata": {
    "scrolled": true
   },
   "outputs": [],
   "source": [
    "help(f.circle)"
   ]
  },
  {
   "cell_type": "code",
   "execution_count": null,
   "id": "hungarian-schedule",
   "metadata": {},
   "outputs": [],
   "source": [
    "#Creating a plot with 3 Circles on\n",
    "\n",
    "output_file(\"Circle.html\")\n",
    "\n",
    "Circle_plot = figure()\n",
    "Circle_plot.circle(x= 10, y = 9)\n",
    "Circle_plot.circle(x= 7.5, y = 6)\n",
    "Circle_plot.circle(x= 3, y = 3)\n",
    "\n",
    "show(Circle_plot)"
   ]
  },
  {
   "cell_type": "code",
   "execution_count": null,
   "id": "afraid-cargo",
   "metadata": {},
   "outputs": [],
   "source": [
    "help(f.triangle)"
   ]
  },
  {
   "cell_type": "code",
   "execution_count": null,
   "id": "convertible-court",
   "metadata": {},
   "outputs": [],
   "source": [
    "#Creating a plot with 3 triangles on\n",
    "\n",
    "output_file(\"triangle_plot.html\")\n",
    "\n",
    "triangle_plot = figure()\n",
    "triangle_plot.triangle(x= 10, y = 9)\n",
    "triangle_plot.triangle(x= 7.5, y = 6)\n",
    "triangle_plot.triangle(x= 3, y = 3)\n",
    "\n",
    "show(triangle_plot)"
   ]
  },
  {
   "cell_type": "code",
   "execution_count": null,
   "id": "checked-blair",
   "metadata": {},
   "outputs": [],
   "source": [
    "#An easier way to do both of the above is to give the data to the method before hand:\n",
    "\n",
    "x=[3,7.5,10]\n",
    "y=[3,6,9]\n",
    " \n",
    "output_file(\"Triangle.html\")\n",
    " \n",
    "f=figure()\n",
    " \n",
    "\n",
    "f.triangle(x,y)\n",
    " \n",
    "\n",
    "show(f)"
   ]
  }
 ],
 "metadata": {
  "kernelspec": {
   "display_name": "Python 3",
   "language": "python",
   "name": "python3"
  },
  "language_info": {
   "codemirror_mode": {
    "name": "ipython",
    "version": 3
   },
   "file_extension": ".py",
   "mimetype": "text/x-python",
   "name": "python",
   "nbconvert_exporter": "python",
   "pygments_lexer": "ipython3",
   "version": "3.9.0"
  }
 },
 "nbformat": 4,
 "nbformat_minor": 5
}
